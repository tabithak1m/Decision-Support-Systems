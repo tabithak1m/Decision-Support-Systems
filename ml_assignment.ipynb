{
  "cells": [
    {
      "cell_type": "code",
      "execution_count": 1,
      "metadata": {
        "colab": {
          "base_uri": "https://localhost:8080/",
          "height": 0
        },
        "id": "yN-7-GtIezuO",
        "outputId": "9032095f-7a6f-42f5-bfe7-431fa1c07bc5"
      },
      "outputs": [
        {
          "output_type": "stream",
          "name": "stdout",
          "text": [
            "Collecting wget\n",
            "  Downloading wget-3.2.zip (10 kB)\n",
            "  Preparing metadata (setup.py) ... \u001b[?25l\u001b[?25hdone\n",
            "Building wheels for collected packages: wget\n",
            "  Building wheel for wget (setup.py) ... \u001b[?25l\u001b[?25hdone\n",
            "  Created wheel for wget: filename=wget-3.2-py3-none-any.whl size=9656 sha256=ce4b366ad9f70753c019f71fd0b87f1921ae46b96a134edc59a589997bfb388e\n",
            "  Stored in directory: /root/.cache/pip/wheels/8b/f1/7f/5c94f0a7a505ca1c81cd1d9208ae2064675d97582078e6c769\n",
            "Successfully built wget\n",
            "Installing collected packages: wget\n",
            "Successfully installed wget-3.2\n",
            "Collecting scikit-learn==1.5\n",
            "  Downloading scikit_learn-1.5.0-cp310-cp310-manylinux_2_17_x86_64.manylinux2014_x86_64.whl.metadata (11 kB)\n",
            "Requirement already satisfied: numpy>=1.19.5 in /usr/local/lib/python3.10/dist-packages (from scikit-learn==1.5) (1.26.4)\n",
            "Requirement already satisfied: scipy>=1.6.0 in /usr/local/lib/python3.10/dist-packages (from scikit-learn==1.5) (1.13.1)\n",
            "Requirement already satisfied: joblib>=1.2.0 in /usr/local/lib/python3.10/dist-packages (from scikit-learn==1.5) (1.4.2)\n",
            "Requirement already satisfied: threadpoolctl>=3.1.0 in /usr/local/lib/python3.10/dist-packages (from scikit-learn==1.5) (3.5.0)\n",
            "Downloading scikit_learn-1.5.0-cp310-cp310-manylinux_2_17_x86_64.manylinux2014_x86_64.whl (13.3 MB)\n",
            "\u001b[2K   \u001b[90m━━━━━━━━━━━━━━━━━━━━━━━━━━━━━━━━━━━━━━━━\u001b[0m \u001b[32m13.3/13.3 MB\u001b[0m \u001b[31m38.9 MB/s\u001b[0m eta \u001b[36m0:00:00\u001b[0m\n",
            "\u001b[?25hInstalling collected packages: scikit-learn\n",
            "  Attempting uninstall: scikit-learn\n",
            "    Found existing installation: scikit-learn 1.5.2\n",
            "    Uninstalling scikit-learn-1.5.2:\n",
            "      Successfully uninstalled scikit-learn-1.5.2\n",
            "Successfully installed scikit-learn-1.5.0\n"
          ]
        }
      ],
      "source": [
        "!pip install wget\n",
        "!pip install scikit-learn==1.5"
      ]
    },
    {
      "cell_type": "code",
      "execution_count": 2,
      "metadata": {
        "id": "ZxVJZ-xUeD5a"
      },
      "outputs": [],
      "source": [
        "import pandas as pd\n",
        "import numpy as np\n",
        "import seaborn as sns\n",
        "import matplotlib.pyplot as plt\n",
        "\n",
        "import wget\n",
        "import time as time\n",
        "from sklearn import linear_model\n",
        "from sklearn.model_selection import train_test_split\n",
        "from sklearn.model_selection import cross_val_score\n",
        "from sklearn.metrics import mutual_info_score\n",
        "from sklearn.metrics import root_mean_squared_error\n",
        "\n",
        "# your import here"
      ]
    },
    {
      "cell_type": "markdown",
      "metadata": {
        "id": "ET9lZ4AGk1_T"
      },
      "source": [
        "## Import Dataset"
      ]
    },
    {
      "cell_type": "code",
      "execution_count": 3,
      "metadata": {
        "colab": {
          "base_uri": "https://localhost:8080/",
          "height": 35
        },
        "id": "P6QMWV6Ik1_T",
        "outputId": "b74776ea-bc3f-4ea0-9352-fe7d5be3d335"
      },
      "outputs": [
        {
          "output_type": "execute_result",
          "data": {
            "text/plain": [
              "'sale_data.zip'"
            ],
            "application/vnd.google.colaboratory.intrinsic+json": {
              "type": "string"
            }
          },
          "metadata": {},
          "execution_count": 3
        }
      ],
      "source": [
        "wget.download('https://github.com/MIE451-2024/course-datasets/raw/refs/heads/main/sale_data.zip', 'sale_data.zip')"
      ]
    },
    {
      "cell_type": "code",
      "execution_count": 4,
      "metadata": {
        "colab": {
          "base_uri": "https://localhost:8080/",
          "height": 0
        },
        "id": "Iz_6I8eQk1_U",
        "outputId": "7e81e3b8-fae0-4af7-832f-e94322b70929"
      },
      "outputs": [
        {
          "output_type": "stream",
          "name": "stdout",
          "text": [
            "Archive:  sale_data.zip\n",
            "   creating: sale_data/\n",
            "  inflating: __MACOSX/._sale_data    \n",
            "  inflating: sale_data/.DS_Store     \n",
            "  inflating: __MACOSX/sale_data/._.DS_Store  \n",
            "  inflating: sale_data/weather_data.csv  \n",
            "  inflating: __MACOSX/sale_data/._weather_data.csv  \n",
            "  inflating: sale_data/train_data_assignment.csv  \n",
            "  inflating: sale_data/cleaned_test_data.csv  \n",
            "  inflating: __MACOSX/sale_data/._cleaned_test_data.csv  \n",
            "  inflating: sale_data/test_data_assignment.csv  \n",
            "  inflating: __MACOSX/sale_data/._test_data_assignment.csv  \n",
            "  inflating: sale_data/cleaned_train_data.csv  \n",
            "  inflating: __MACOSX/sale_data/._cleaned_train_data.csv  \n"
          ]
        }
      ],
      "source": [
        "!unzip sale_data.zip\n",
        "DATA_DIR = 'sale_data'"
      ]
    },
    {
      "cell_type": "code",
      "execution_count": 5,
      "metadata": {
        "id": "wpe29DkNk1_U"
      },
      "outputs": [],
      "source": [
        "# get the train data\n",
        "train_data = pd.read_csv(DATA_DIR+\"/train_data_assignment.csv\")\n",
        "# get the test data\n",
        "test_data = pd.read_csv(DATA_DIR+\"/test_data_assignment.csv\")"
      ]
    },
    {
      "cell_type": "markdown",
      "metadata": {
        "id": "CubPPylFeD5s"
      },
      "source": [
        "## Q1\n",
        "\n",
        "### Q1 (a)"
      ]
    },
    {
      "cell_type": "code",
      "execution_count": 63,
      "metadata": {
        "id": "WPiQ2nNleD5w"
      },
      "outputs": [],
      "source": [
        "def basic_stats(data: pd.DataFrame) -> tuple:\n",
        "\n",
        "    # Codes for Q1a\n",
        "\n",
        "    num_of_total_records = len(data) # (int) Number of total records in the 'data'\n",
        "\n",
        "    num_of_features = data.shape[1] # (int) The number of features in the 'data' including the target feature 'Sales'\n",
        "\n",
        "    num_of_total_unique_date = len(data['Date'].unique()) # (int) Number of unique dates available in the 'data'\n",
        "\n",
        "    num_unique_assortment = len(data['Assortment'].unique())\n",
        "\n",
        "    num_of_unique_store = len(data['Store'].unique()) # (int) Number of stores available in the 'data'\n",
        "\n",
        "    mean_sales = data['Sales'].mean() # (float) Mean of the target feature 'Sales'\n",
        "\n",
        "    return num_of_total_records, num_of_features, num_of_total_unique_date, num_of_unique_store, mean_sales"
      ]
    },
    {
      "cell_type": "code",
      "execution_count": 64,
      "metadata": {
        "colab": {
          "base_uri": "https://localhost:8080/",
          "height": 0
        },
        "id": "HHw-vhyMeD5y",
        "outputId": "fe745e4f-6ed1-4c7a-d507-356d6479279b"
      },
      "outputs": [
        {
          "output_type": "stream",
          "name": "stdout",
          "text": [
            "Number of total records:  539011\n",
            "Number of features:  14\n",
            "Number of total unique date:  942\n",
            "Number of unique store:  1112\n",
            "Mean of the target feature 'Sales':  6960.811078067052\n"
          ]
        }
      ],
      "source": [
        "results = basic_stats(train_data)\n",
        "\n",
        "# report results\n",
        "print(\"Number of total records: \", results[0])\n",
        "print(\"Number of features: \", results[1])\n",
        "print(\"Number of total unique date: \", results[2])\n",
        "print(\"Number of unique store: \", results[3])\n",
        "print(\"Mean of the target feature 'Sales': \", results[4])"
      ]
    },
    {
      "cell_type": "markdown",
      "metadata": {
        "id": "HFKETa0EeD52"
      },
      "source": [
        "\n",
        "\n",
        "*   **Number of unique store types**: The total number of unique stores available in data\n",
        "*   **Number of unique promotion intervals**: The total number of unique intervals in which the consecutive promotion (Promo2) was started, as described by PromoInterval in data\n",
        "*   **Number of unique holidays**: The total number of unique state holidays in data\n",
        "\n",
        "\n",
        "\n"
      ]
    },
    {
      "cell_type": "code",
      "execution_count": 65,
      "metadata": {
        "id": "HciuIO2ak1_V"
      },
      "outputs": [],
      "source": [
        "# validation code\n",
        "assert (isinstance(results[0], int)), \"Return type of the value should be int\"\n",
        "assert (isinstance(results[1], int)), \"Return type of the value should be int\"\n",
        "assert (isinstance(results[2], int)), \"Return type of the value should be int\"\n",
        "assert (isinstance(results[3], int)), \"Return type of the value should be int\"\n",
        "assert (isinstance(results[4], float)), \"Return type of the value should be float\""
      ]
    },
    {
      "cell_type": "markdown",
      "metadata": {
        "id": "e4OkD9VMeD53"
      },
      "source": [
        "### Q1 (b)"
      ]
    },
    {
      "cell_type": "code",
      "execution_count": 66,
      "metadata": {
        "id": "ZnIVwy3Yk1_V"
      },
      "outputs": [],
      "source": [
        "def schoolholiday_count(data: pd.DataFrame) -> plt.Axes:\n",
        "    fig = plt.subplots(figsize=(10, 6))\n",
        "\n",
        "    # Codes for Q1b, you should store the axes of your counter plot in the variable 'counter_plot',\n",
        "    # please refer to CounterPlot() in the lab notebook for an example\n",
        "    counter_plot = sns.countplot(x='SchoolHoliday', data=data)\n",
        "\n",
        "    counter_plot.set_title('Count of Records Affected by School Holidays')\n",
        "    counter_plot.set_xlabel('School Holiday (0 = No, 1 = Yes)')\n",
        "    counter_plot.set_ylabel('Count')\n",
        "\n",
        "    return counter_plot"
      ]
    },
    {
      "cell_type": "code",
      "execution_count": 67,
      "metadata": {
        "id": "NvIdtft2eD54"
      },
      "outputs": [],
      "source": [
        "def sales_vs_promo2_bar(data: pd.DataFrame) -> plt.Axes:\n",
        "    fig = plt.subplots(figsize=(10, 6))\n",
        "\n",
        "    bar_plot = sns.barplot(x='Promo2', y='Sales', data=data, errorbar=None)\n",
        "    bar_plot.set_title('Average Sales with and without Promo2')\n",
        "    bar_plot.set_xlabel('Promo2 (0 = No, 1 = Yes)')\n",
        "    bar_plot.set_ylabel('Average Sales')\n",
        "\n",
        "    return bar_plot"
      ]
    },
    {
      "cell_type": "code",
      "execution_count": 68,
      "metadata": {
        "id": "-t_3fCR3k1_W"
      },
      "outputs": [],
      "source": [
        "def sales_vs_competition_scatter(data: pd.DataFrame) -> plt.Axes:\n",
        "    fig = plt.figure(figsize=(10, 6))\n",
        "\n",
        "    # Codes for Q1b\n",
        "    scatter_plot = sns.scatterplot(x='CompetitionDistance', y='Sales', data=data)\n",
        "    scatter_plot.set_title('Sales vs. Competition Distance')\n",
        "    scatter_plot.set_xlabel('Competition Distance (meters)')\n",
        "    scatter_plot.set_ylabel('Sales')\n",
        "\n",
        "    return scatter_plot\n",
        ""
      ]
    },
    {
      "cell_type": "code",
      "execution_count": 69,
      "metadata": {
        "colab": {
          "base_uri": "https://localhost:8080/",
          "height": 564
        },
        "id": "KZqJlpUvk1_W",
        "outputId": "3b39a6f1-a735-4135-8ade-323de6427d9b"
      },
      "outputs": [
        {
          "output_type": "display_data",
          "data": {
            "text/plain": [
              "<Figure size 1000x600 with 1 Axes>"
            ],
            "image/png": "[encoded data removed]"
          },
          "metadata": {}
        }
      ],
      "source": [
        "# plot the counter plot\n",
        "ax1 = schoolholiday_count(train_data)\n",
        "plt.show()"
      ]
    },
    {
      "cell_type": "markdown",
      "metadata": {
        "id": "Uf4GpppVk1_W"
      },
      "source": [
        "*   SchoolHoliday Count Plot:\n",
        "  * The majority of the records are not affected by school holidays (SchoolHoliday = 0), as evident by the large difference between the two bars, which may suggest that school holidays may have a limited effect on overall sales. However, it is still not small enough to deem it as insignificant. Further analysis is needed to confirm the impact."
      ]
    },
    {
      "cell_type": "code",
      "execution_count": 70,
      "metadata": {
        "colab": {
          "base_uri": "https://localhost:8080/",
          "height": 564
        },
        "id": "ZEN5HKIjk1_W",
        "outputId": "d40d3c89-8141-4412-c10e-09f80eb4eb6f"
      },
      "outputs": [
        {
          "output_type": "display_data",
          "data": {
            "text/plain": [
              "<Figure size 1000x600 with 1 Axes>"
            ],
            "image/png": "[encoded data removed]"
          },
          "metadata": {}
        }
      ],
      "source": [
        "# plot the bar plot\n",
        "ax2 = sales_vs_promo2_bar(train_data)\n",
        "plt.show()"
      ]
    },
    {
      "cell_type": "markdown",
      "metadata": {
        "id": "EOJG35ESk1_W"
      },
      "source": [
        "*   Sales vs Promo2 Bar Plot:\n",
        "  * Interestingly, stores without consecutive promotions (Promo2 = 0) have slightly higher average sales compared to stores with consecutive promotions (Promo2 = 1). This counterintuitive result might suggest that the effectiveness of Promo2 is not straightforward and could be influenced by other factors."
      ]
    },
    {
      "cell_type": "code",
      "execution_count": 14,
      "metadata": {
        "colab": {
          "base_uri": "https://localhost:8080/",
          "height": 564
        },
        "id": "B-SKggDQeD57",
        "outputId": "1363500c-79b7-4083-dac4-b17c2d8ef8ce"
      },
      "outputs": [
        {
          "output_type": "display_data",
          "data": {
            "text/plain": [
              "<Figure size 1000x600 with 1 Axes>"
            ],
            "image/png": "[encoded data removed]"
          },
          "metadata": {}
        }
      ],
      "source": [
        "# plot the scatter plot\n",
        "ax3 = sales_vs_competition_scatter(train_data)\n",
        "plt.show()"
      ]
    },
    {
      "cell_type": "markdown",
      "metadata": {
        "id": "-Ehix2izk1_W"
      },
      "source": [
        "\n",
        "\n",
        "*   Sales vs Competition Distance Scatter Plot:\n",
        "  * There appears to be a general trend where sales tend to be higher when the competition distance is smaller. However, the scatter is quite dense, indicating that while competition distance may play a role, it is not the only factor influencing sales.\n",
        "\n"
      ]
    },
    {
      "cell_type": "code",
      "execution_count": 15,
      "metadata": {
        "id": "XpPLND6mk1_W"
      },
      "outputs": [],
      "source": [
        "assert (isinstance(ax1, plt.Axes)), \"Return type of the value should be matplotlib.axes._subplots.Axes\"\n",
        "assert (isinstance(ax2, plt.Axes)), \"Return type of the value should be matplotlib.axes._subplots.Axes\"\n",
        "assert (isinstance(ax3, plt.Axes)), \"Return type of the value should be matplotlib.axes._subplots.Axes\""
      ]
    },
    {
      "cell_type": "markdown",
      "metadata": {
        "id": "KbMWfJZdeD5-"
      },
      "source": [
        "### Q1 (c)"
      ]
    },
    {
      "cell_type": "code",
      "execution_count": 18,
      "metadata": {
        "id": "jbovGMn0eD5_"
      },
      "outputs": [],
      "source": [
        "def missing_data(data: pd.DataFrame) -> dict:\n",
        "    # Codes for\n",
        "    missing_count = data.isnull().sum().to_dict()\n",
        "\n",
        "    return missing_count"
      ]
    },
    {
      "cell_type": "code",
      "execution_count": 19,
      "metadata": {
        "colab": {
          "base_uri": "https://localhost:8080/",
          "height": 0
        },
        "id": "dHlwcY8ek1_W",
        "outputId": "86a84f65-f023-428b-c8b1-49f683708fe4"
      },
      "outputs": [
        {
          "output_type": "execute_result",
          "data": {
            "text/plain": [
              "{'Store': 0,\n",
              " 'Date': 0,\n",
              " 'DayOfWeek': 0,\n",
              " 'Customers': 0,\n",
              " 'StateHoliday': 0,\n",
              " 'SchoolHoliday': 0,\n",
              " 'StoreType': 0,\n",
              " 'Assortment': 0,\n",
              " 'CompetitionDistance': 0,\n",
              " 'Promo': 0,\n",
              " 'Promo2': 0,\n",
              " 'PromoInterval': 0,\n",
              " 'State': 0,\n",
              " 'Sales': 0}"
            ]
          },
          "metadata": {},
          "execution_count": 19
        }
      ],
      "source": [
        "# report the missing data\n",
        "missing_data(train_data)"
      ]
    },
    {
      "cell_type": "markdown",
      "metadata": {
        "id": "rrYLI3Bvk1_X"
      },
      "source": [
        "After analyzing the dataset, we found no missing values across any of the features. This indicates that the dataset is complete and doesn't require any imputation or handling of missing data. This simplifies the data preprocessing steps, as we can move forward without worrying about filling or removing any incomplete records."
      ]
    },
    {
      "cell_type": "code",
      "execution_count": 21,
      "metadata": {
        "id": "LE_v9tMDk1_X"
      },
      "outputs": [],
      "source": [
        "assert (isinstance(missing_data(train_data), dict)), \"Return type of the value should be dict\""
      ]
    },
    {
      "cell_type": "markdown",
      "metadata": {
        "id": "uIChnWW7k1_X"
      },
      "source": [
        "## Q2"
      ]
    },
    {
      "cell_type": "markdown",
      "metadata": {
        "id": "Td9c5cuueD6j"
      },
      "source": [
        "### Q2 (a)\n",
        "\n",
        "Modify the partial code below"
      ]
    },
    {
      "cell_type": "code",
      "execution_count": 32,
      "metadata": {
        "id": "rVe6CROteD6j"
      },
      "outputs": [],
      "source": [
        "def clean_data(data: pd.DataFrame) -> pd.DataFrame:\n",
        "\n",
        "    '''\n",
        "    Please Complete Following Task in this function:\n",
        "\n",
        "    1. Convert 'Date' column to three column with name 'Year', 'Month', and 'Day'\n",
        "       For example, 2015-07-31 should be converted to 2015, 7, 31\n",
        "    '''\n",
        "    clean_data = data.copy()\n",
        "\n",
        "    # codes for task1\n",
        "    clean_data['Date'] = pd.to_datetime(clean_data['Date'], format='%Y-%m-%d')\n",
        "    clean_data['Year'] = clean_data['Date'].dt.year\n",
        "    clean_data['Month'] = clean_data['Date'].dt.month\n",
        "    clean_data['Day'] = clean_data['Date'].dt.day\n",
        "\n",
        "    '''\n",
        "    2. Create 3 indicator variables for 'Assortment' column with name 'Assortment_a', 'Assortment_b', and 'Assortment_c'\n",
        "            For example, if 'Assortment' is 'a', then 'Assortment_a' should be 1 and all other indicator variables should be 0\n",
        "\n",
        "    '''\n",
        "    # codes for task2\n",
        "    clean_data['Assortment_a'] = (clean_data['Assortment'] == 'a').astype(int)\n",
        "    clean_data['Assortment_b'] = (clean_data['Assortment'] == 'b').astype(int)\n",
        "    clean_data['Assortment_c'] = (clean_data['Assortment'] == 'c').astype(int)\n",
        "\n",
        "    '''\n",
        "    3. Drop 'Date' and 'Assortment' columns\n",
        "    '''\n",
        "    # codes for task3\n",
        "    clean_data = clean_data.drop(columns=['Date', 'Assortment'])\n",
        "\n",
        "    return clean_data"
      ]
    },
    {
      "cell_type": "code",
      "execution_count": 36,
      "metadata": {
        "colab": {
          "base_uri": "https://localhost:8080/",
          "height": 0
        },
        "id": "x5m3i12Ik1_X",
        "outputId": "d0bcb4b8-ecc3-4160-9f8a-bdae1d341023"
      },
      "outputs": [
        {
          "output_type": "execute_result",
          "data": {
            "text/plain": [
              "Index(['Store', 'DayOfWeek', 'Customers', 'StateHoliday', 'SchoolHoliday',\n",
              "       'StoreType', 'CompetitionDistance', 'Promo', 'Promo2', 'PromoInterval',\n",
              "       'State', 'Sales', 'Year', 'Month', 'Day', 'Assortment_a',\n",
              "       'Assortment_b', 'Assortment_c'],\n",
              "      dtype='object')"
            ]
          },
          "metadata": {},
          "execution_count": 36
        }
      ],
      "source": [
        "# report the cleaned data\n",
        "cleaned_data = clean_data(train_data)\n",
        "cleaned_data.columns"
      ]
    },
    {
      "cell_type": "code",
      "execution_count": 37,
      "metadata": {
        "id": "0iw8aXGrk1_X"
      },
      "outputs": [],
      "source": [
        "assert (isinstance(cleaned_data, pd.DataFrame)), \"Return type of the value should be pd.DataFrame\""
      ]
    },
    {
      "cell_type": "markdown",
      "metadata": {
        "id": "7lLduk2nk1_X"
      },
      "source": [
        "### Q2 (b)"
      ]
    },
    {
      "cell_type": "code",
      "execution_count": 38,
      "metadata": {
        "colab": {
          "base_uri": "https://localhost:8080/",
          "height": 0
        },
        "id": "Mxa1g6Tak1_X",
        "outputId": "334aae20-22aa-4450-d479-ee754e5e69d9"
      },
      "outputs": [
        {
          "output_type": "execute_result",
          "data": {
            "text/plain": [
              "Index(['Store', 'Year', 'Customers', 'SchoolHoliday', 'CompetitionDistance',\n",
              "       'Promo', 'Promo2', 'PromoInterval', 'Assortment_a', 'Assortment_b',\n",
              "       'Assortment_c', 'StateHoliday_0', 'StateHoliday_a', 'StateHoliday_b',\n",
              "       'StateHoliday_c', 'StoreType_a', 'StoreType_b', 'StoreType_c',\n",
              "       'StoreType_d', 'February', 'March', 'April', 'May', 'June', 'July',\n",
              "       'August', 'September', 'October', 'November', 'December', 'Tuesday',\n",
              "       'Wednesday', 'Thursday', 'Friday', 'Saturday', 'Sunday', 'Month',\n",
              "       'DayOfMonth', 'Sales'],\n",
              "      dtype='object')"
            ]
          },
          "metadata": {},
          "execution_count": 38
        }
      ],
      "source": [
        "# DO NOT MODIFY THIS CELL\n",
        "# This will be the provided cleaned data for the rest of the assignment\n",
        "cleaned_train_data = pd.read_csv(DATA_DIR+\"/cleaned_train_data.csv\")\n",
        "cleaned_train_data.columns"
      ]
    },
    {
      "cell_type": "code",
      "execution_count": 39,
      "metadata": {
        "id": "gD-VqbCQeD6m"
      },
      "outputs": [],
      "source": [
        "def calculate_mi(data: pd.DataFrame) -> pd.Series:\n",
        "    # Codes for Q2b\n",
        "    mi = data.apply(lambda x: mutual_info_score(x, data['Sales']), axis=0)\n",
        "    mi = mi.sort_values(ascending=False)\n",
        "\n",
        "    return mi"
      ]
    },
    {
      "cell_type": "code",
      "execution_count": 40,
      "metadata": {
        "colab": {
          "base_uri": "https://localhost:8080/",
          "height": 1307
        },
        "id": "8LSJ-vnweD6p",
        "outputId": "0cb3a406-1017-49f8-904f-bfd1c18acf0e"
      },
      "outputs": [
        {
          "output_type": "execute_result",
          "data": {
            "text/plain": [
              "Sales                  9.282939\n",
              "Customers              3.243215\n",
              "Store                  3.160365\n",
              "CompetitionDistance    2.479647\n",
              "DayOfMonth             0.459876\n",
              "Month                  0.198364\n",
              "Promo                  0.116766\n",
              "Year                   0.042779\n",
              "Saturday               0.042146\n",
              "Promo2                 0.030368\n",
              "PromoInterval          0.030368\n",
              "Assortment_a           0.029364\n",
              "Assortment_c           0.028492\n",
              "December               0.027683\n",
              "StoreType_a            0.026676\n",
              "StoreType_d            0.026395\n",
              "StoreType_b            0.025630\n",
              "Friday                 0.022461\n",
              "SchoolHoliday          0.021150\n",
              "Thursday               0.020489\n",
              "Wednesday              0.020439\n",
              "Tuesday                0.020217\n",
              "May                    0.018780\n",
              "March                  0.018383\n",
              "StoreType_c            0.018364\n",
              "June                   0.018143\n",
              "April                  0.018092\n",
              "February               0.018010\n",
              "July                   0.017990\n",
              "November               0.017124\n",
              "August                 0.016508\n",
              "September              0.016458\n",
              "October                0.016355\n",
              "Assortment_b           0.014342\n",
              "Sunday                 0.011628\n",
              "StateHoliday_0         0.004069\n",
              "StateHoliday_a         0.003245\n",
              "StateHoliday_b         0.001087\n",
              "StateHoliday_c         0.000446\n",
              "dtype: float64"
            ],
            "text/html": [
              "<div>\n",
              "<style scoped>\n",
              "    .dataframe tbody tr th:only-of-type {\n",
              "        vertical-align: middle;\n",
              "    }\n",
              "\n",
              "    .dataframe tbody tr th {\n",
              "        vertical-align: top;\n",
              "    }\n",
              "\n",
              "    .dataframe thead th {\n",
              "        text-align: right;\n",
              "    }\n",
              "</style>\n",
              "<table border=\"1\" class=\"dataframe\">\n",
              "  <thead>\n",
              "    <tr style=\"text-align: right;\">\n",
              "      <th></th>\n",
              "      <th>0</th>\n",
              "    </tr>\n",
              "  </thead>\n",
              "  <tbody>\n",
              "    <tr>\n",
              "      <th>Sales</th>\n",
              "      <td>9.282939</td>\n",
              "    </tr>\n",
              "    <tr>\n",
              "      <th>Customers</th>\n",
              "      <td>3.243215</td>\n",
              "    </tr>\n",
              "    <tr>\n",
              "      <th>Store</th>\n",
              "      <td>3.160365</td>\n",
              "    </tr>\n",
              "    <tr>\n",
              "      <th>CompetitionDistance</th>\n",
              "      <td>2.479647</td>\n",
              "    </tr>\n",
              "    <tr>\n",
              "      <th>DayOfMonth</th>\n",
              "      <td>0.459876</td>\n",
              "    </tr>\n",
              "    <tr>\n",
              "      <th>Month</th>\n",
              "      <td>0.198364</td>\n",
              "    </tr>\n",
              "    <tr>\n",
              "      <th>Promo</th>\n",
              "      <td>0.116766</td>\n",
              "    </tr>\n",
              "    <tr>\n",
              "      <th>Year</th>\n",
              "      <td>0.042779</td>\n",
              "    </tr>\n",
              "    <tr>\n",
              "      <th>Saturday</th>\n",
              "      <td>0.042146</td>\n",
              "    </tr>\n",
              "    <tr>\n",
              "      <th>Promo2</th>\n",
              "      <td>0.030368</td>\n",
              "    </tr>\n",
              "    <tr>\n",
              "      <th>PromoInterval</th>\n",
              "      <td>0.030368</td>\n",
              "    </tr>\n",
              "    <tr>\n",
              "      <th>Assortment_a</th>\n",
              "      <td>0.029364</td>\n",
              "    </tr>\n",
              "    <tr>\n",
              "      <th>Assortment_c</th>\n",
              "      <td>0.028492</td>\n",
              "    </tr>\n",
              "    <tr>\n",
              "      <th>December</th>\n",
              "      <td>0.027683</td>\n",
              "    </tr>\n",
              "    <tr>\n",
              "      <th>StoreType_a</th>\n",
              "      <td>0.026676</td>\n",
              "    </tr>\n",
              "    <tr>\n",
              "      <th>StoreType_d</th>\n",
              "      <td>0.026395</td>\n",
              "    </tr>\n",
              "    <tr>\n",
              "      <th>StoreType_b</th>\n",
              "      <td>0.025630</td>\n",
              "    </tr>\n",
              "    <tr>\n",
              "      <th>Friday</th>\n",
              "      <td>0.022461</td>\n",
              "    </tr>\n",
              "    <tr>\n",
              "      <th>SchoolHoliday</th>\n",
              "      <td>0.021150</td>\n",
              "    </tr>\n",
              "    <tr>\n",
              "      <th>Thursday</th>\n",
              "      <td>0.020489</td>\n",
              "    </tr>\n",
              "    <tr>\n",
              "      <th>Wednesday</th>\n",
              "      <td>0.020439</td>\n",
              "    </tr>\n",
              "    <tr>\n",
              "      <th>Tuesday</th>\n",
              "      <td>0.020217</td>\n",
              "    </tr>\n",
              "    <tr>\n",
              "      <th>May</th>\n",
              "      <td>0.018780</td>\n",
              "    </tr>\n",
              "    <tr>\n",
              "      <th>March</th>\n",
              "      <td>0.018383</td>\n",
              "    </tr>\n",
              "    <tr>\n",
              "      <th>StoreType_c</th>\n",
              "      <td>0.018364</td>\n",
              "    </tr>\n",
              "    <tr>\n",
              "      <th>June</th>\n",
              "      <td>0.018143</td>\n",
              "    </tr>\n",
              "    <tr>\n",
              "      <th>April</th>\n",
              "      <td>0.018092</td>\n",
              "    </tr>\n",
              "    <tr>\n",
              "      <th>February</th>\n",
              "      <td>0.018010</td>\n",
              "    </tr>\n",
              "    <tr>\n",
              "      <th>July</th>\n",
              "      <td>0.017990</td>\n",
              "    </tr>\n",
              "    <tr>\n",
              "      <th>November</th>\n",
              "      <td>0.017124</td>\n",
              "    </tr>\n",
              "    <tr>\n",
              "      <th>August</th>\n",
              "      <td>0.016508</td>\n",
              "    </tr>\n",
              "    <tr>\n",
              "      <th>September</th>\n",
              "      <td>0.016458</td>\n",
              "    </tr>\n",
              "    <tr>\n",
              "      <th>October</th>\n",
              "      <td>0.016355</td>\n",
              "    </tr>\n",
              "    <tr>\n",
              "      <th>Assortment_b</th>\n",
              "      <td>0.014342</td>\n",
              "    </tr>\n",
              "    <tr>\n",
              "      <th>Sunday</th>\n",
              "      <td>0.011628</td>\n",
              "    </tr>\n",
              "    <tr>\n",
              "      <th>StateHoliday_0</th>\n",
              "      <td>0.004069</td>\n",
              "    </tr>\n",
              "    <tr>\n",
              "      <th>StateHoliday_a</th>\n",
              "      <td>0.003245</td>\n",
              "    </tr>\n",
              "    <tr>\n",
              "      <th>StateHoliday_b</th>\n",
              "      <td>0.001087</td>\n",
              "    </tr>\n",
              "    <tr>\n",
              "      <th>StateHoliday_c</th>\n",
              "      <td>0.000446</td>\n",
              "    </tr>\n",
              "  </tbody>\n",
              "</table>\n",
              "</div><br><label><b>dtype:</b> float64</label>"
            ]
          },
          "metadata": {},
          "execution_count": 40
        }
      ],
      "source": [
        "cleaned_train_data = pd.read_csv(DATA_DIR+\"/cleaned_train_data.csv\")\n",
        "# report the mutual information\n",
        "mi = calculate_mi(cleaned_train_data)\n",
        "mi"
      ]
    },
    {
      "cell_type": "code",
      "execution_count": 41,
      "metadata": {
        "id": "T3wUm9tGk1_Y"
      },
      "outputs": [],
      "source": [
        "assert (isinstance(mi, pd.Series)), \"Return type of the value should be pd.Series\""
      ]
    },
    {
      "cell_type": "markdown",
      "metadata": {
        "id": "f15uYND_eD6s"
      },
      "source": [
        "### Q2 (c)\n",
        "\n",
        "\n",
        "\n",
        "*   Mutual information (MI) gives the dependency between the features and the target variable (Sales). It helps us understand how much information each feature contributes to predicting Sales.\n",
        "* In machine learning, MI can guide feature selection by identifying which features are most informative, allowing us to focus on those that provide the highest predictive value and potentially improve model accuracy.\n",
        "\n",
        "*   Feature with the highest MI (excluding Sales itself): **Customers** (MI: 3.243215)\n",
        "  * This indicates that the number of customers has the strongest relationship with Sales.\n",
        "* Feature with the lowest MI: **StateHoliday_c**, (MI: 0.000446)\n",
        "  * This indicates that StateHoliday_c provides almost no additional information for predicting Sales.\n",
        "\n",
        "* One potential problem with calculating MI on categorical features:\n",
        "  * MI may overestimate the importance of features with many unique categories (high cardinality), especially if the target variable is continuous. This can lead to misleading results, where categorical features with many unique values appear more informative than they truly are.\n",
        "\n",
        "* Yes, the results make sense. For example, Customers having the highest MI score is expected because the more customers typically result in higher sales.\n",
        "* The low MI score for features like StateHoliday_c or StateHoliday_b is also reasonable, as specific holidays may not strongly influence overall sales compared to other features like promotions or store type.\n",
        "\n",
        "\n"
      ]
    },
    {
      "cell_type": "markdown",
      "metadata": {
        "id": "HnuNMUCAk1_Y"
      },
      "source": [
        "### Q2 (d)"
      ]
    },
    {
      "cell_type": "code",
      "execution_count": 50,
      "metadata": {
        "id": "dSRmZfPZk1_d"
      },
      "outputs": [],
      "source": [
        "def new_features(data: pd.DataFrame) -> pd.DataFrame:\n",
        "    new_data = data.copy()\n",
        "    # uncomment following code if you want to use the 'Date' column\n",
        "    # new_data['Date'] = new_data['Year'].astype(str) + '-' + new_data['Month'].astype(str) + '-' + new_data['DayOfMonth'].astype(str)\n",
        "    # new_data['Date'] = pd.to_datetime(new_data['Date'])\n",
        "\n",
        "    # Codes for Q2d:\n",
        "    #### IMPORTANT_NOTE : ######\n",
        "    # Please ensure that this function you implement runs without any errors.\n",
        "    # If the function fails to run, you will receive no marks for all the remaining questions (they rely on this function).\n",
        "    # If you’re uncertain about the solution, you can keep the given code, which will return the input dataframe without any changes.\n",
        "    # In this case, you will receive zero marks for this question, but not effect the subsequent questions.\n",
        "\n",
        "    #DO NOT FORGET TO DROP 'Date' COLUMN AFTER YOU USE IT\n",
        "    # new_data.drop(['Date'], axis=1, inplace=True)\n",
        "\n",
        "    new_data['Promo2Duration'] = new_data.groupby('Store')['Promo2'].cumsum()\n",
        "\n",
        "    new_data['PromoFrequency'] = new_data.groupby('Store')['Promo'].transform('sum')\n",
        "\n",
        "    new_data['MonthPromoInteraction'] = new_data['Month'] * new_data['Promo']\n",
        "\n",
        "    return new_data"
      ]
    },
    {
      "cell_type": "code",
      "execution_count": 51,
      "metadata": {
        "colab": {
          "base_uri": "https://localhost:8080/",
          "height": 1401
        },
        "id": "F29TwFjlk1_d",
        "outputId": "cd505ced-0ab9-4e88-c5c4-f85cc0d6a649"
      },
      "outputs": [
        {
          "output_type": "execute_result",
          "data": {
            "text/plain": [
              "Sales                    9.282939\n",
              "Customers                3.243215\n",
              "Store                    3.160365\n",
              "CompetitionDistance      2.479647\n",
              "Promo2Duration           1.504636\n",
              "PromoFrequency           0.765716\n",
              "DayOfMonth               0.459876\n",
              "MonthPromoInteraction    0.286617\n",
              "Month                    0.198364\n",
              "Promo                    0.116766\n",
              "Year                     0.042779\n",
              "Saturday                 0.042146\n",
              "Promo2                   0.030368\n",
              "PromoInterval            0.030368\n",
              "Assortment_a             0.029364\n",
              "Assortment_c             0.028492\n",
              "December                 0.027683\n",
              "StoreType_a              0.026676\n",
              "StoreType_d              0.026395\n",
              "StoreType_b              0.025630\n",
              "Friday                   0.022461\n",
              "SchoolHoliday            0.021150\n",
              "Thursday                 0.020489\n",
              "Wednesday                0.020439\n",
              "Tuesday                  0.020217\n",
              "May                      0.018780\n",
              "March                    0.018383\n",
              "StoreType_c              0.018364\n",
              "June                     0.018143\n",
              "April                    0.018092\n",
              "February                 0.018010\n",
              "July                     0.017990\n",
              "November                 0.017124\n",
              "August                   0.016508\n",
              "September                0.016458\n",
              "October                  0.016355\n",
              "Assortment_b             0.014342\n",
              "Sunday                   0.011628\n",
              "StateHoliday_0           0.004069\n",
              "StateHoliday_a           0.003245\n",
              "StateHoliday_b           0.001087\n",
              "StateHoliday_c           0.000446\n",
              "dtype: float64"
            ],
            "text/html": [
              "<div>\n",
              "<style scoped>\n",
              "    .dataframe tbody tr th:only-of-type {\n",
              "        vertical-align: middle;\n",
              "    }\n",
              "\n",
              "    .dataframe tbody tr th {\n",
              "        vertical-align: top;\n",
              "    }\n",
              "\n",
              "    .dataframe thead th {\n",
              "        text-align: right;\n",
              "    }\n",
              "</style>\n",
              "<table border=\"1\" class=\"dataframe\">\n",
              "  <thead>\n",
              "    <tr style=\"text-align: right;\">\n",
              "      <th></th>\n",
              "      <th>0</th>\n",
              "    </tr>\n",
              "  </thead>\n",
              "  <tbody>\n",
              "    <tr>\n",
              "      <th>Sales</th>\n",
              "      <td>9.282939</td>\n",
              "    </tr>\n",
              "    <tr>\n",
              "      <th>Customers</th>\n",
              "      <td>3.243215</td>\n",
              "    </tr>\n",
              "    <tr>\n",
              "      <th>Store</th>\n",
              "      <td>3.160365</td>\n",
              "    </tr>\n",
              "    <tr>\n",
              "      <th>CompetitionDistance</th>\n",
              "      <td>2.479647</td>\n",
              "    </tr>\n",
              "    <tr>\n",
              "      <th>Promo2Duration</th>\n",
              "      <td>1.504636</td>\n",
              "    </tr>\n",
              "    <tr>\n",
              "      <th>PromoFrequency</th>\n",
              "      <td>0.765716</td>\n",
              "    </tr>\n",
              "    <tr>\n",
              "      <th>DayOfMonth</th>\n",
              "      <td>0.459876</td>\n",
              "    </tr>\n",
              "    <tr>\n",
              "      <th>MonthPromoInteraction</th>\n",
              "      <td>0.286617</td>\n",
              "    </tr>\n",
              "    <tr>\n",
              "      <th>Month</th>\n",
              "      <td>0.198364</td>\n",
              "    </tr>\n",
              "    <tr>\n",
              "      <th>Promo</th>\n",
              "      <td>0.116766</td>\n",
              "    </tr>\n",
              "    <tr>\n",
              "      <th>Year</th>\n",
              "      <td>0.042779</td>\n",
              "    </tr>\n",
              "    <tr>\n",
              "      <th>Saturday</th>\n",
              "      <td>0.042146</td>\n",
              "    </tr>\n",
              "    <tr>\n",
              "      <th>Promo2</th>\n",
              "      <td>0.030368</td>\n",
              "    </tr>\n",
              "    <tr>\n",
              "      <th>PromoInterval</th>\n",
              "      <td>0.030368</td>\n",
              "    </tr>\n",
              "    <tr>\n",
              "      <th>Assortment_a</th>\n",
              "      <td>0.029364</td>\n",
              "    </tr>\n",
              "    <tr>\n",
              "      <th>Assortment_c</th>\n",
              "      <td>0.028492</td>\n",
              "    </tr>\n",
              "    <tr>\n",
              "      <th>December</th>\n",
              "      <td>0.027683</td>\n",
              "    </tr>\n",
              "    <tr>\n",
              "      <th>StoreType_a</th>\n",
              "      <td>0.026676</td>\n",
              "    </tr>\n",
              "    <tr>\n",
              "      <th>StoreType_d</th>\n",
              "      <td>0.026395</td>\n",
              "    </tr>\n",
              "    <tr>\n",
              "      <th>StoreType_b</th>\n",
              "      <td>0.025630</td>\n",
              "    </tr>\n",
              "    <tr>\n",
              "      <th>Friday</th>\n",
              "      <td>0.022461</td>\n",
              "    </tr>\n",
              "    <tr>\n",
              "      <th>SchoolHoliday</th>\n",
              "      <td>0.021150</td>\n",
              "    </tr>\n",
              "    <tr>\n",
              "      <th>Thursday</th>\n",
              "      <td>0.020489</td>\n",
              "    </tr>\n",
              "    <tr>\n",
              "      <th>Wednesday</th>\n",
              "      <td>0.020439</td>\n",
              "    </tr>\n",
              "    <tr>\n",
              "      <th>Tuesday</th>\n",
              "      <td>0.020217</td>\n",
              "    </tr>\n",
              "    <tr>\n",
              "      <th>May</th>\n",
              "      <td>0.018780</td>\n",
              "    </tr>\n",
              "    <tr>\n",
              "      <th>March</th>\n",
              "      <td>0.018383</td>\n",
              "    </tr>\n",
              "    <tr>\n",
              "      <th>StoreType_c</th>\n",
              "      <td>0.018364</td>\n",
              "    </tr>\n",
              "    <tr>\n",
              "      <th>June</th>\n",
              "      <td>0.018143</td>\n",
              "    </tr>\n",
              "    <tr>\n",
              "      <th>April</th>\n",
              "      <td>0.018092</td>\n",
              "    </tr>\n",
              "    <tr>\n",
              "      <th>February</th>\n",
              "      <td>0.018010</td>\n",
              "    </tr>\n",
              "    <tr>\n",
              "      <th>July</th>\n",
              "      <td>0.017990</td>\n",
              "    </tr>\n",
              "    <tr>\n",
              "      <th>November</th>\n",
              "      <td>0.017124</td>\n",
              "    </tr>\n",
              "    <tr>\n",
              "      <th>August</th>\n",
              "      <td>0.016508</td>\n",
              "    </tr>\n",
              "    <tr>\n",
              "      <th>September</th>\n",
              "      <td>0.016458</td>\n",
              "    </tr>\n",
              "    <tr>\n",
              "      <th>October</th>\n",
              "      <td>0.016355</td>\n",
              "    </tr>\n",
              "    <tr>\n",
              "      <th>Assortment_b</th>\n",
              "      <td>0.014342</td>\n",
              "    </tr>\n",
              "    <tr>\n",
              "      <th>Sunday</th>\n",
              "      <td>0.011628</td>\n",
              "    </tr>\n",
              "    <tr>\n",
              "      <th>StateHoliday_0</th>\n",
              "      <td>0.004069</td>\n",
              "    </tr>\n",
              "    <tr>\n",
              "      <th>StateHoliday_a</th>\n",
              "      <td>0.003245</td>\n",
              "    </tr>\n",
              "    <tr>\n",
              "      <th>StateHoliday_b</th>\n",
              "      <td>0.001087</td>\n",
              "    </tr>\n",
              "    <tr>\n",
              "      <th>StateHoliday_c</th>\n",
              "      <td>0.000446</td>\n",
              "    </tr>\n",
              "  </tbody>\n",
              "</table>\n",
              "</div><br><label><b>dtype:</b> float64</label>"
            ]
          },
          "metadata": {},
          "execution_count": 51
        }
      ],
      "source": [
        "# generated new features and calculate the mutual information\n",
        "cleaned_train_data = pd.read_csv(DATA_DIR+\"/cleaned_train_data.csv\")\n",
        "data_with_new_features = new_features(cleaned_train_data)\n",
        "mi = calculate_mi(data_with_new_features)\n",
        "mi"
      ]
    },
    {
      "cell_type": "markdown",
      "metadata": {
        "id": "48hWB5sbk1_d"
      },
      "source": [
        "- All three features ranked higher up in the list with scores 1.504646, 0.765716, 0.286617 where Promo2Duration, PromoFrequency has fairly high MI scores and MonthPromoInteraction's score wasn't highly significant.\n",
        "- Promo2Duration ranked the highest among the new features with an MI score of 1.504646. This feature likely performed well because longer-running promotions (Promo2) have a more sustained effect on customer behavior, potentially leading to higher sales. Stores with ongoing promotions tend to attract more attention over time, which increases their sales.\n"
      ]
    },
    {
      "cell_type": "code",
      "execution_count": null,
      "metadata": {
        "id": "YDI9w3Utk1_d"
      },
      "outputs": [],
      "source": [
        "assert (isinstance(data_with_new_features, pd.DataFrame)), \"Return type of the value should be pd.DataFrame\""
      ]
    },
    {
      "cell_type": "markdown",
      "metadata": {
        "id": "QFAVtGjaeD6t"
      },
      "source": [
        "## Q3"
      ]
    },
    {
      "cell_type": "markdown",
      "metadata": {
        "id": "5rO86jBEeD6u"
      },
      "source": [
        "### Q3 (a)"
      ]
    },
    {
      "cell_type": "code",
      "execution_count": 52,
      "metadata": {
        "colab": {
          "base_uri": "https://localhost:8080/",
          "height": 0
        },
        "id": "NfKHr4dzk1_e",
        "outputId": "761a2dc4-80ec-4ac2-90c3-ff3043a72079"
      },
      "outputs": [
        {
          "output_type": "stream",
          "name": "stdout",
          "text": [
            "(431208, 38) (107803, 38)\n"
          ]
        }
      ],
      "source": [
        "cleaned_train_data = pd.read_csv(DATA_DIR+\"/cleaned_train_data.csv\")\n",
        "X = cleaned_train_data.drop('Sales', axis=1)\n",
        "y = cleaned_train_data['Sales']\n",
        "\n",
        "X_train, X_valid, y_train, y_valid = train_test_split(X, y, test_size=0.2, random_state=0)\n",
        "print(X_train.shape, X_valid.shape)"
      ]
    },
    {
      "cell_type": "code",
      "execution_count": 60,
      "metadata": {
        "id": "lV5oH6BJk1_e"
      },
      "outputs": [],
      "source": [
        "def Q3a(X: pd.DataFrame, y: pd.Series, alpha: float) -> linear_model.LinearRegression|linear_model.Lasso|linear_model.Ridge:\n",
        "    # Codes for Q3a\n",
        "    model = linear_model.Ridge(alpha = alpha)\n",
        "    model.fit(X, y)\n",
        "    return model"
      ]
    },
    {
      "cell_type": "code",
      "execution_count": 61,
      "metadata": {
        "colab": {
          "base_uri": "https://localhost:8080/",
          "height": 0
        },
        "id": "VRxJ8bKVk1_e",
        "outputId": "e383b436-5574-4d7b-ea2c-4199485c0b31"
      },
      "outputs": [
        {
          "output_type": "stream",
          "name": "stdout",
          "text": [
            "                     Coefficient\n",
            "Store                  -0.101796\n",
            "Year                  156.796586\n",
            "Customers               7.298386\n",
            "SchoolHoliday         182.509637\n",
            "CompetitionDistance     0.024255\n",
            "Promo                1293.237250\n",
            "Promo2                 17.047856\n",
            "PromoInterval          68.191426\n",
            "Assortment_a         1241.844409\n",
            "Assortment_b        -2797.138450\n",
            "Assortment_c         1555.294035\n",
            "StateHoliday_0       -607.223947\n",
            "StateHoliday_a       -429.933526\n",
            "StateHoliday_b       -615.217710\n",
            "StateHoliday_c       1652.375183\n",
            "StoreType_a           570.371309\n",
            "StoreType_b         -2687.873921\n",
            "StoreType_c           428.438172\n",
            "StoreType_d          1689.064440\n",
            "February              -35.970324\n",
            "March                  20.464397\n",
            "April                  -8.615675\n",
            "May                    17.927718\n",
            "June                   46.122475\n",
            "July                  -78.001677\n",
            "August               -280.489575\n",
            "September            -281.031905\n",
            "October              -314.289945\n",
            "November               -9.498806\n",
            "December              668.001353\n",
            "Tuesday              -476.002578\n",
            "Wednesday            -608.750671\n",
            "Thursday             -677.954973\n",
            "Friday               -537.499291\n",
            "Saturday             -146.850618\n",
            "Sunday                 -6.730063\n",
            "Month                  26.159674\n",
            "DayOfMonth              3.145315\n"
          ]
        }
      ],
      "source": [
        "# train the model\n",
        "Q3a_model = Q3a(X_train, y_train, 1.0)\n",
        "if Q3a_model is not None:\n",
        "    # report the coefficients\n",
        "    print(pd.DataFrame(Q3a_model.coef_, index=X.columns, columns=['Coefficient']))"
      ]
    },
    {
      "cell_type": "markdown",
      "metadata": {
        "id": "J9df2ZXAk1_e"
      },
      "source": [
        "The coefficients represent the strength and direction of the relationship between each feature and the target variable (Sales).\n",
        "- Positive coefficient means as the feature value increases, the target variable (sales) tends to increase, while a negative coefficient suggests the opposite.\n",
        "\n"
      ]
    },
    {
      "cell_type": "code",
      "execution_count": 71,
      "metadata": {
        "id": "CWmuUYdJk1_e"
      },
      "outputs": [],
      "source": [
        "assert (isinstance(Q3a_model, linear_model.LinearRegression) or isinstance(Q3a_model, linear_model.Lasso) or isinstance(Q3a_model, linear_model.Ridge)), \"Return type of the value should be LinearRegression, Lasso or Ridge\""
      ]
    },
    {
      "cell_type": "markdown",
      "metadata": {
        "id": "oXuqwgG8k1_e"
      },
      "source": [
        "### Q3 (b)"
      ]
    },
    {
      "cell_type": "code",
      "execution_count": 154,
      "metadata": {
        "id": "AD1eCHa3k1_e"
      },
      "outputs": [],
      "source": [
        "def Q3b(X_train: pd.DataFrame, y_train: pd.Series, X_val: pd.DataFrame, y_val: pd.Series) -> dict:\n",
        "    hyper_params = [1, 3, 5.5, 7.5, 10] # list of possible value of tuning alpha(5 different values)\n",
        "    # hyper_params = np.arange(5.45, 5.55, 0.001)\n",
        "    results = {} # dictionary to store the results\n",
        "\n",
        "    for hyper_param in hyper_params:\n",
        "        # model with value hyper_param in the tuning hyperparameter using Q3a\n",
        "        model = Q3a(X_train, y_train, hyper_param)\n",
        "        # prediction of the model using X_val\n",
        "        y_pred = model.predict(X_val)\n",
        "        # root mean squared error of the model with y_val and y_pred\n",
        "        rmse = root_mean_squared_error(y_val, y_pred)\n",
        "        # key: hyper_param, value: mean_rmse\n",
        "        results[hyper_param] = rmse\n",
        "\n",
        "    # plot the results\n",
        "    fig, axis = plt.subplots(1,1,figsize=(6,6))\n",
        "    sns.lineplot(x=list(results.keys()), y=list(results.values()), ax=axis)\n",
        "\n",
        "    axis.set_xlabel('Alpha')\n",
        "    axis.set_ylabel('RMSE')\n",
        "    axis.set_title('RMSE of Ridge Regression with Different Alpha')\n",
        "\n",
        "    return results"
      ]
    },
    {
      "cell_type": "code",
      "execution_count": 155,
      "metadata": {
        "colab": {
          "base_uri": "https://localhost:8080/",
          "height": 768
        },
        "id": "2GETZojnk1_e",
        "outputId": "c5e0a998-0aaf-433e-9cdd-9d7fda3ee75c"
      },
      "outputs": [
        {
          "output_type": "execute_result",
          "data": {
            "text/plain": [
              "   Hyperparamter    Mean RMSE\n",
              "2            5.5  1259.385163\n",
              "3            7.5  1259.385479\n",
              "1            3.0  1259.385749\n",
              "4           10.0  1259.386579\n",
              "0            1.0  1259.387288"
            ],
            "text/html": [
              "\n",
              "  <div id=\"df-e3ef516e-ff82-421c-9db8-63030489b8e3\" class=\"colab-df-container\">\n",
              "    <div>\n",
              "<style scoped>\n",
              "    .dataframe tbody tr th:only-of-type {\n",
              "        vertical-align: middle;\n",
              "    }\n",
              "\n",
              "    .dataframe tbody tr th {\n",
              "        vertical-align: top;\n",
              "    }\n",
              "\n",
              "    .dataframe thead th {\n",
              "        text-align: right;\n",
              "    }\n",
              "</style>\n",
              "<table border=\"1\" class=\"dataframe\">\n",
              "  <thead>\n",
              "    <tr style=\"text-align: right;\">\n",
              "      <th></th>\n",
              "      <th>Hyperparamter</th>\n",
              "      <th>Mean RMSE</th>\n",
              "    </tr>\n",
              "  </thead>\n",
              "  <tbody>\n",
              "    <tr>\n",
              "      <th>2</th>\n",
              "      <td>5.5</td>\n",
              "      <td>1259.385163</td>\n",
              "    </tr>\n",
              "    <tr>\n",
              "      <th>3</th>\n",
              "      <td>7.5</td>\n",
              "      <td>1259.385479</td>\n",
              "    </tr>\n",
              "    <tr>\n",
              "      <th>1</th>\n",
              "      <td>3.0</td>\n",
              "      <td>1259.385749</td>\n",
              "    </tr>\n",
              "    <tr>\n",
              "      <th>4</th>\n",
              "      <td>10.0</td>\n",
              "      <td>1259.386579</td>\n",
              "    </tr>\n",
              "    <tr>\n",
              "      <th>0</th>\n",
              "      <td>1.0</td>\n",
              "      <td>1259.387288</td>\n",
              "    </tr>\n",
              "  </tbody>\n",
              "</table>\n",
              "</div>\n",
              "    <div class=\"colab-df-buttons\">\n",
              "\n",
              "  <div class=\"colab-df-container\">\n",
              "    <button class=\"colab-df-convert\" onclick=\"convertToInteractive('df-e3ef516e-ff82-421c-9db8-63030489b8e3')\"\n",
              "            title=\"Convert this dataframe to an interactive table.\"\n",
              "            style=\"display:none;\">\n",
              "\n",
              "  <svg xmlns=\"http://www.w3.org/2000/svg\" height=\"24px\" viewBox=\"0 -960 960 960\">\n",
              "    <path d=\"M120-120v-720h720v720H120Zm60-500h600v-160H180v160Zm220 220h160v-160H400v160Zm0 220h160v-160H400v160ZM180-400h160v-160H180v160Zm440 0h160v-160H620v160ZM180-180h160v-160H180v160Zm440 0h160v-160H620v160Z\"/>\n",
              "  </svg>\n",
              "    </button>\n",
              "\n",
              "  <style>\n",
              "    .colab-df-container {\n",
              "      display:flex;\n",
              "      gap: 12px;\n",
              "    }\n",
              "\n",
              "    .colab-df-convert {\n",
              "      background-color: #E8F0FE;\n",
              "      border: none;\n",
              "      border-radius: 50%;\n",
              "      cursor: pointer;\n",
              "      display: none;\n",
              "      fill: #1967D2;\n",
              "      height: 32px;\n",
              "      padding: 0 0 0 0;\n",
              "      width: 32px;\n",
              "    }\n",
              "\n",
              "    .colab-df-convert:hover {\n",
              "      background-color: #E2EBFA;\n",
              "      box-shadow: 0px 1px 2px rgba(60, 64, 67, 0.3), 0px 1px 3px 1px rgba(60, 64, 67, 0.15);\n",
              "      fill: #174EA6;\n",
              "    }\n",
              "\n",
              "    .colab-df-buttons div {\n",
              "      margin-bottom: 4px;\n",
              "    }\n",
              "\n",
              "    [theme=dark] .colab-df-convert {\n",
              "      background-color: #3B4455;\n",
              "      fill: #D2E3FC;\n",
              "    }\n",
              "\n",
              "    [theme=dark] .colab-df-convert:hover {\n",
              "      background-color: #434B5C;\n",
              "      box-shadow: 0px 1px 3px 1px rgba(0, 0, 0, 0.15);\n",
              "      filter: drop-shadow(0px 1px 2px rgba(0, 0, 0, 0.3));\n",
              "      fill: #FFFFFF;\n",
              "    }\n",
              "  </style>\n",
              "\n",
              "    <script>\n",
              "      const buttonEl =\n",
              "        document.querySelector('#df-e3ef516e-ff82-421c-9db8-63030489b8e3 button.colab-df-convert');\n",
              "      buttonEl.style.display =\n",
              "        google.colab.kernel.accessAllowed ? 'block' : 'none';\n",
              "\n",
              "      async function convertToInteractive(key) {\n",
              "        const element = document.querySelector('#df-e3ef516e-ff82-421c-9db8-63030489b8e3');\n",
              "        const dataTable =\n",
              "          await google.colab.kernel.invokeFunction('convertToInteractive',\n",
              "                                                    [key], {});\n",
              "        if (!dataTable) return;\n",
              "\n",
              "        const docLinkHtml = 'Like what you see? Visit the ' +\n",
              "          '<a target=\"_blank\" href=https://colab.research.google.com/notebooks/data_table.ipynb>data table notebook</a>'\n",
              "          + ' to learn more about interactive tables.';\n",
              "        element.innerHTML = '';\n",
              "        dataTable['output_type'] = 'display_data';\n",
              "        await google.colab.output.renderOutput(dataTable, element);\n",
              "        const docLink = document.createElement('div');\n",
              "        docLink.innerHTML = docLinkHtml;\n",
              "        element.appendChild(docLink);\n",
              "      }\n",
              "    </script>\n",
              "  </div>\n",
              "\n",
              "\n",
              "<div id=\"df-6d98e543-349f-400e-986a-1336c53556f5\">\n",
              "  <button class=\"colab-df-quickchart\" onclick=\"quickchart('df-6d98e543-349f-400e-986a-1336c53556f5')\"\n",
              "            title=\"Suggest charts\"\n",
              "            style=\"display:none;\">\n",
              "\n",
              "<svg xmlns=\"http://www.w3.org/2000/svg\" height=\"24px\"viewBox=\"0 0 24 24\"\n",
              "     width=\"24px\">\n",
              "    <g>\n",
              "        <path d=\"M19 3H5c-1.1 0-2 .9-2 2v14c0 1.1.9 2 2 2h14c1.1 0 2-.9 2-2V5c0-1.1-.9-2-2-2zM9 17H7v-7h2v7zm4 0h-2V7h2v10zm4 0h-2v-4h2v4z\"/>\n",
              "    </g>\n",
              "</svg>\n",
              "  </button>\n",
              "\n",
              "<style>\n",
              "  .colab-df-quickchart {\n",
              "      --bg-color: #E8F0FE;\n",
              "      --fill-color: #1967D2;\n",
              "      --hover-bg-color: #E2EBFA;\n",
              "      --hover-fill-color: #174EA6;\n",
              "      --disabled-fill-color: #AAA;\n",
              "      --disabled-bg-color: #DDD;\n",
              "  }\n",
              "\n",
              "  [theme=dark] .colab-df-quickchart {\n",
              "      --bg-color: #3B4455;\n",
              "      --fill-color: #D2E3FC;\n",
              "      --hover-bg-color: #434B5C;\n",
              "      --hover-fill-color: #FFFFFF;\n",
              "      --disabled-bg-color: #3B4455;\n",
              "      --disabled-fill-color: #666;\n",
              "  }\n",
              "\n",
              "  .colab-df-quickchart {\n",
              "    background-color: var(--bg-color);\n",
              "    border: none;\n",
              "    border-radius: 50%;\n",
              "    cursor: pointer;\n",
              "    display: none;\n",
              "    fill: var(--fill-color);\n",
              "    height: 32px;\n",
              "    padding: 0;\n",
              "    width: 32px;\n",
              "  }\n",
              "\n",
              "  .colab-df-quickchart:hover {\n",
              "    background-color: var(--hover-bg-color);\n",
              "    box-shadow: 0 1px 2px rgba(60, 64, 67, 0.3), 0 1px 3px 1px rgba(60, 64, 67, 0.15);\n",
              "    fill: var(--button-hover-fill-color);\n",
              "  }\n",
              "\n",
              "  .colab-df-quickchart-complete:disabled,\n",
              "  .colab-df-quickchart-complete:disabled:hover {\n",
              "    background-color: var(--disabled-bg-color);\n",
              "    fill: var(--disabled-fill-color);\n",
              "    box-shadow: none;\n",
              "  }\n",
              "\n",
              "  .colab-df-spinner {\n",
              "    border: 2px solid var(--fill-color);\n",
              "    border-color: transparent;\n",
              "    border-bottom-color: var(--fill-color);\n",
              "    animation:\n",
              "      spin 1s steps(1) infinite;\n",
              "  }\n",
              "\n",
              "  @keyframes spin {\n",
              "    0% {\n",
              "      border-color: transparent;\n",
              "      border-bottom-color: var(--fill-color);\n",
              "      border-left-color: var(--fill-color);\n",
              "    }\n",
              "    20% {\n",
              "      border-color: transparent;\n",
              "      border-left-color: var(--fill-color);\n",
              "      border-top-color: var(--fill-color);\n",
              "    }\n",
              "    30% {\n",
              "      border-color: transparent;\n",
              "      border-left-color: var(--fill-color);\n",
              "      border-top-color: var(--fill-color);\n",
              "      border-right-color: var(--fill-color);\n",
              "    }\n",
              "    40% {\n",
              "      border-color: transparent;\n",
              "      border-right-color: var(--fill-color);\n",
              "      border-top-color: var(--fill-color);\n",
              "    }\n",
              "    60% {\n",
              "      border-color: transparent;\n",
              "      border-right-color: var(--fill-color);\n",
              "    }\n",
              "    80% {\n",
              "      border-color: transparent;\n",
              "      border-right-color: var(--fill-color);\n",
              "      border-bottom-color: var(--fill-color);\n",
              "    }\n",
              "    90% {\n",
              "      border-color: transparent;\n",
              "      border-bottom-color: var(--fill-color);\n",
              "    }\n",
              "  }\n",
              "</style>\n",
              "\n",
              "  <script>\n",
              "    async function quickchart(key) {\n",
              "      const quickchartButtonEl =\n",
              "        document.querySelector('#' + key + ' button');\n",
              "      quickchartButtonEl.disabled = true;  // To prevent multiple clicks.\n",
              "      quickchartButtonEl.classList.add('colab-df-spinner');\n",
              "      try {\n",
              "        const charts = await google.colab.kernel.invokeFunction(\n",
              "            'suggestCharts', [key], {});\n",
              "      } catch (error) {\n",
              "        console.error('Error during call to suggestCharts:', error);\n",
              "      }\n",
              "      quickchartButtonEl.classList.remove('colab-df-spinner');\n",
              "      quickchartButtonEl.classList.add('colab-df-quickchart-complete');\n",
              "    }\n",
              "    (() => {\n",
              "      let quickchartButtonEl =\n",
              "        document.querySelector('#df-6d98e543-349f-400e-986a-1336c53556f5 button');\n",
              "      quickchartButtonEl.style.display =\n",
              "        google.colab.kernel.accessAllowed ? 'block' : 'none';\n",
              "    })();\n",
              "  </script>\n",
              "</div>\n",
              "\n",
              "    </div>\n",
              "  </div>\n"
            ],
            "application/vnd.google.colaboratory.intrinsic+json": {
              "type": "dataframe",
              "summary": "{\n  \"name\": \"pd\",\n  \"rows\": 5,\n  \"fields\": [\n    {\n      \"column\": \"Hyperparamter\",\n      \"properties\": {\n        \"dtype\": \"number\",\n        \"std\": 3.56019662378358,\n        \"min\": 1.0,\n        \"max\": 10.0,\n        \"num_unique_values\": 5,\n        \"samples\": [\n          7.5,\n          1.0,\n          3.0\n        ],\n        \"semantic_type\": \"\",\n        \"description\": \"\"\n      }\n    },\n    {\n      \"column\": \"Mean RMSE\",\n      \"properties\": {\n        \"dtype\": \"number\",\n        \"std\": 0.0008680754806315604,\n        \"min\": 1259.3851634201892,\n        \"max\": 1259.38728773318,\n        \"num_unique_values\": 5,\n        \"samples\": [\n          1259.385479276737,\n          1259.38728773318,\n          1259.3857491789565\n        ],\n        \"semantic_type\": \"\",\n        \"description\": \"\"\n      }\n    }\n  ]\n}"
            }
          },
          "metadata": {},
          "execution_count": 155
        },
        {
          "output_type": "display_data",
          "data": {
            "text/plain": [
              "<Figure size 600x600 with 1 Axes>"
            ],
            "image/png": "[encoded data removed]"
          },
          "metadata": {}
        }
      ],
      "source": [
        "results = Q3b(X_train, y_train, X_valid, y_valid)\n",
        "pd.DataFrame(results.items(), columns=['Hyperparamter', 'Mean RMSE']).sort_values(by='Mean RMSE')"
      ]
    },
    {
      "cell_type": "markdown",
      "metadata": {
        "id": "skxEkvM9k1_e"
      },
      "source": [
        "alpha = 5.5 gave the lowest RMSE of 1259.385163"
      ]
    },
    {
      "cell_type": "code",
      "execution_count": 156,
      "metadata": {
        "id": "PYCeI2m6k1_e"
      },
      "outputs": [],
      "source": [
        "assert (isinstance(results , dict)), \"Return type of the value should be dict\""
      ]
    },
    {
      "cell_type": "markdown",
      "metadata": {
        "id": "bGPxEo-Zk1_f"
      },
      "source": [
        "### Q3 (c)"
      ]
    },
    {
      "cell_type": "code",
      "execution_count": 176,
      "metadata": {
        "id": "Hu_FF-GIk1_f"
      },
      "outputs": [],
      "source": [
        "def Q3c(X: pd.DataFrame, y: pd.Series) -> linear_model.Ridge:\n",
        "    # Codes for Q3c\n",
        "    features = ['Promo2Duration', 'PromoFrequency', 'MonthPromoInteraction',\n",
        "            'Customers', 'CompetitionDistance', 'Promo', 'Assortment_a',\n",
        "            'Assortment_b', 'Assortment_c', 'StoreType_a', 'StoreType_b',\n",
        "            'StoreType_c', 'StoreType_d', 'SchoolHoliday', 'StateHoliday_0',\n",
        "            'StateHoliday_a', 'StateHoliday_b', 'StateHoliday_c']\n",
        "    X = X[features]\n",
        "\n",
        "    model = linear_model.Ridge(alpha = 5.5)\n",
        "    rmse = cross_val_score(model, X, y, cv=5, scoring='neg_root_mean_squared_error')\n",
        "    mean_rmse = np.mean(np.sqrt(-rmse))\n",
        "\n",
        "    return model, mean_rmse"
      ]
    },
    {
      "cell_type": "code",
      "execution_count": 177,
      "metadata": {
        "colab": {
          "base_uri": "https://localhost:8080/"
        },
        "id": "Alc_Dz9_k1_f",
        "outputId": "e008ca3c-75be-4d07-acd6-9d3e5e3029dd"
      },
      "outputs": [
        {
          "output_type": "execute_result",
          "data": {
            "text/plain": [
              "36.32992346307945"
            ]
          },
          "metadata": {},
          "execution_count": 177
        }
      ],
      "source": [
        "\n",
        "cleaned_train_data = pd.read_csv(DATA_DIR+\"/cleaned_train_data.csv\")\n",
        "# generate new features\n",
        "data_with_new_features = new_features(cleaned_train_data)\n",
        "# obtain observed features and target feature\n",
        "X = data_with_new_features.drop('Sales', axis=1)\n",
        "y = data_with_new_features['Sales']\n",
        "# train the model\n",
        "Q3c_model, mean_rmse = Q3c(X, y)\n",
        "mean_rmse"
      ]
    },
    {
      "cell_type": "markdown",
      "metadata": {
        "id": "NjMZkiHlk1_f"
      },
      "source": [
        "Yes they improved significantly (1259 -> 36.33)"
      ]
    },
    {
      "cell_type": "code",
      "execution_count": null,
      "metadata": {
        "id": "q3k7C-eLk1_f"
      },
      "outputs": [],
      "source": [
        "assert (isinstance(Q3c_model, linear_model.Ridge)), \"Return type of the value should be Ridge\"\n",
        "assert (isinstance(mean_rmse, float)), \"Return type of the value should be float\""
      ]
    },
    {
      "cell_type": "markdown",
      "metadata": {
        "id": "ZYPQ4D-Vk1_f"
      },
      "source": [
        "### Q3 (d)"
      ]
    },
    {
      "cell_type": "code",
      "execution_count": 171,
      "metadata": {
        "id": "yXVIO3DSk1_f"
      },
      "outputs": [],
      "source": [
        "def Q3d(X: pd.DataFrame, y: pd.Series) -> plt.Axes:\n",
        "   # Codes for Q3d\n",
        "\n",
        "   top_features = ['Customers', 'Store', 'CompetitionDistance', 'DayOfMonth', 'Month',\n",
        "                    'Promo', 'Year', 'Saturday', 'Promo2', 'PromoInterval', 'Assortment_a',\n",
        "                    'Assortment_c', 'December', 'StoreType_a', 'StoreType_d', 'StoreType_b',\n",
        "                    'Friday', 'SchoolHoliday', 'Thursday', 'Wednesday'] # top 20 features with the highest mutual information excluding the target feature 'Sales'\n",
        "   K = range(1, 21)\n",
        "   rmse = pd.DataFrame()\n",
        "   for k in K:\n",
        "      # select the top k features\n",
        "      features = top_features[:k]\n",
        "      # train the Ridge model with the selected features (you can choose you own alpha)\n",
        "      model = linear_model.Ridge(alpha = 5.5)\n",
        "      # calculate the RMSE using 3-fold cross validation\n",
        "      cv_result = cross_val_score(model, X[features], y, cv=3, scoring='neg_root_mean_squared_error')\n",
        "      # store the RMSE as a pandas DataFrame\n",
        "      test_rmse = -cv_result\n",
        "      current_rmse = pd.DataFrame({'test': test_rmse})\n",
        "      current_rmse['k'] = k\n",
        "      # append the current_rmse to the rmse DataFrame\n",
        "      rmse = pd.concat([rmse, current_rmse], ignore_index=True)\n",
        "\n",
        "   # plot the line plot using seaborn lineplot of K and RMSE with 95% confidence interval\n",
        "   plt.figure(figsize=(10, 6))\n",
        "   line_plot = sns.lineplot(x='k', y='test', data=rmse, errorbar='ci', label='Validation')\n",
        "\n",
        "   plt.title(f'RMSE by Top K Features based on Mutual Information')\n",
        "   plt.xlabel('Top K Features in Model')\n",
        "   plt.ylabel('RMSE')\n",
        "\n",
        "   return line_plot"
      ]
    },
    {
      "cell_type": "code",
      "execution_count": 172,
      "metadata": {
        "colab": {
          "base_uri": "https://localhost:8080/",
          "height": 564
        },
        "id": "KZihg3p5k1_f",
        "outputId": "1a76bb2b-b123-449e-ae9e-ad2fe45193ac"
      },
      "outputs": [
        {
          "output_type": "display_data",
          "data": {
            "text/plain": [
              "<Figure size 1000x600 with 1 Axes>"
            ],
            "image/png": "[encoded data removed]"
          },
          "metadata": {}
        }
      ],
      "source": [
        "cleaned_train_data = pd.read_csv(DATA_DIR+\"/cleaned_train_data.csv\")\n",
        "X = cleaned_train_data.drop('Sales', axis=1)\n",
        "y = cleaned_train_data['Sales']\n",
        "\n",
        "line_plot = Q3d(X, y)\n",
        "plt.show()"
      ]
    },
    {
      "cell_type": "markdown",
      "metadata": {
        "id": "jMLbWvvWk1_f"
      },
      "source": [
        "It hasn't really improved, especially from 3(c). This is probably because of the features created in 2d had a relatively high MI, which allows the model to focus on the most relevant features and avoids overfitting to less important ones."
      ]
    },
    {
      "cell_type": "code",
      "execution_count": 175,
      "metadata": {
        "id": "da9YxpKhk1_f"
      },
      "outputs": [],
      "source": [
        "assert (isinstance(line_plot, plt.Axes)), \"Return type of the value should be matplotlib.axes._subplots.Axes\""
      ]
    },
    {
      "cell_type": "markdown",
      "metadata": {
        "id": "1jPWB4Fok1_f"
      },
      "source": [
        "### Q3(e)"
      ]
    },
    {
      "cell_type": "code",
      "execution_count": 178,
      "metadata": {
        "id": "eGdCWWsNk1_f"
      },
      "outputs": [],
      "source": [
        "def Q3e(train_data: pd.DataFrame, test_data: pd.DataFrame) -> float:\n",
        "    X_train = train_data.drop('Sales', axis=1)\n",
        "    y_train = train_data['Sales']\n",
        "\n",
        "    X_test = test_data.drop('Sales', axis=1)\n",
        "    y_test = test_data['Sales']\n",
        "\n",
        "    # (optional) Codes for Q3e (if you want select a subset of features)\n",
        "    features = ['Promo2Duration', 'PromoFrequency', 'MonthPromoInteraction',\n",
        "        'Customers', 'CompetitionDistance', 'Promo', 'Assortment_a',\n",
        "        'Assortment_b', 'Assortment_c', 'StoreType_a', 'StoreType_b',\n",
        "        'StoreType_c', 'StoreType_d', 'SchoolHoliday', 'StateHoliday_0',\n",
        "        'StateHoliday_a', 'StateHoliday_b', 'StateHoliday_c'] # MODIFY THIS LINE TO CHANGE THE FEATURES (default is all features)\n",
        "\n",
        "    # ensure the columns are in the same order\n",
        "    X_test = X_test[features]\n",
        "    X_train = X_train[features]\n",
        "\n",
        "    # Codes for Q3e\n",
        "\n",
        "    # 1. Train your best model on the train_data (X_train, y_train)\n",
        "    # 2. Predict on the test_data (X_test)\n",
        "    # 3. Calculate the RMSE for the test_data prediction based on the ground truth (y_test)\n",
        "\n",
        "    model = linear_model.Ridge(alpha = 5.5)\n",
        "    model.fit(X_train, y_train)\n",
        "\n",
        "    y_pred = model.predict(X_test)\n",
        "\n",
        "    rmse = root_mean_squared_error(y_test, y_pred)\n",
        "\n",
        "    #return the rmse\n",
        "    return rmse"
      ]
    },
    {
      "cell_type": "code",
      "execution_count": 179,
      "metadata": {
        "colab": {
          "base_uri": "https://localhost:8080/"
        },
        "id": "YQ-vESSuk1_g",
        "outputId": "f13f95a2-a735-48c6-e3dc-f56f59267925"
      },
      "outputs": [
        {
          "output_type": "execute_result",
          "data": {
            "text/plain": [
              "1697.423613770629"
            ]
          },
          "metadata": {},
          "execution_count": 179
        }
      ],
      "source": [
        "cleaned_train_data = pd.read_csv(DATA_DIR+\"/cleaned_train_data.csv\")\n",
        "cleaned_train_data = new_features(cleaned_train_data)\n",
        "cleaned_test_data = pd.read_csv(DATA_DIR+\"/cleaned_test_data.csv\")\n",
        "cleaned_test_data = new_features(cleaned_test_data)\n",
        "\n",
        "rmse = Q3e(cleaned_train_data, cleaned_test_data)\n",
        "rmse"
      ]
    },
    {
      "cell_type": "markdown",
      "metadata": {
        "id": "iQDw0bJmk1_g"
      },
      "source": [
        "It performed much worse. This is likely due to overfitting on the training data."
      ]
    },
    {
      "cell_type": "code",
      "execution_count": 181,
      "metadata": {
        "id": "_IS7mIPrk1_g"
      },
      "outputs": [],
      "source": [
        "assert (isinstance(rmse, float)), \"Return type of the value should be float\""
      ]
    }
  ],
  "metadata": {
    "colab": {
      "provenance": []
    },
    "kernelspec": {
      "display_name": "Python 3",
      "language": "python",
      "name": "python3"
    },
    "language_info": {
      "codemirror_mode": {
        "name": "ipython",
        "version": 3
      },
      "file_extension": ".py",
      "mimetype": "text/x-python",
      "name": "python",
      "nbconvert_exporter": "python",
      "pygments_lexer": "ipython3",
      "version": "3.12.1"
    }
  },
  "nbformat": 4,
  "nbformat_minor": 0
}